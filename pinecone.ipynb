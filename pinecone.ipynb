{
 "cells": [
  {
   "cell_type": "code",
   "execution_count": 2,
   "metadata": {},
   "outputs": [
    {
     "name": "stderr",
     "output_type": "stream",
     "text": [
      "/Users/swimmingcircle/Code/streamlit_test/streamlit_venv/lib/python3.9/site-packages/pinecone/index.py:4: TqdmWarning: IProgress not found. Please update jupyter and ipywidgets. See https://ipywidgets.readthedocs.io/en/stable/user_install.html\n",
      "  from tqdm.autonotebook import tqdm\n"
     ]
    }
   ],
   "source": [
    "from langchain.embeddings.openai import OpenAIEmbeddings\n",
    "from langchain.vectorstores import Pinecone\n",
    "import pinecone \n",
    "import os\n",
    "from langchain.document_loaders import DirectoryLoader\n",
    "from langchain.text_splitter import RecursiveCharacterTextSplitter\n",
    "import config"
   ]
  },
  {
   "cell_type": "code",
   "execution_count": 3,
   "metadata": {},
   "outputs": [],
   "source": [
    "# initialize pinecone\n",
    "pinecone_api_key = 'ad71b023-81cd-4946-bc21-2c18b51f9e6a'\n",
    "pinecone.init(\n",
    "    api_key=pinecone_api_key,  # find at app.pinecone.io\n",
    "    environment='asia-southeast1-gcp-free'  # next to api key in console\n",
    ")"
   ]
  },
  {
   "cell_type": "code",
   "execution_count": 5,
   "metadata": {},
   "outputs": [],
   "source": [
    "openai_api_key = config.api_keys['openai_api_image_key']\n",
    "# %%\n",
    "embeddings = OpenAIEmbeddings(disallowed_special=(), openai_api_key=openai_api_key)\n",
    "\n",
    "from langchain.document_loaders import TextLoader\n",
    "loader = TextLoader('./sample.txt')\n",
    "documents = loader.load()\n",
    "text_splitter = RecursiveCharacterTextSplitter(\n",
    "    chunk_size = 1000, \n",
    "    chunk_overlap = 50,\n",
    "    length_function = len)\n",
    "\n",
    "docs = text_splitter.split_documents(documents) # list of lists of strings\n"
   ]
  },
  {
   "cell_type": "code",
   "execution_count": 7,
   "metadata": {},
   "outputs": [],
   "source": [
    "index_name = 'tim-urban-test'\n",
    "docsearch = Pinecone.from_documents(docs, embeddings, index_name=index_name)"
   ]
  },
  {
   "cell_type": "code",
   "execution_count": 8,
   "metadata": {},
   "outputs": [],
   "source": [
    "query = \"What is the meaning of life?\"\n",
    "docs = docsearch.similarity_search(query)"
   ]
  },
  {
   "cell_type": "code",
   "execution_count": 9,
   "metadata": {},
   "outputs": [],
   "source": [
    "store = docs[0].page_content"
   ]
  },
  {
   "cell_type": "code",
   "execution_count": 10,
   "metadata": {},
   "outputs": [],
   "source": [
    "from langchain.chat_models import ChatOpenAI\n",
    "llm = ChatOpenAI(model_name='gpt-3.5-turbo-16k-0613', openai_api_key=openai_api_key)"
   ]
  },
  {
   "cell_type": "code",
   "execution_count": 11,
   "metadata": {},
   "outputs": [],
   "source": [
    "template ='''\n",
    "Use the following pieces of context from waitbutwhy to answer the question at the end. \n",
    "If you don't know the answer, just clarify that you are not sure, but this might be how Tim Urban thinks.\n",
    "'''\n",
    "user_input = '''Write a post about the meaning of life within 300 words like waitbutwhy using \"you\" in a casual language'''\n",
    "final_input = template+ store+ user_input"
   ]
  },
  {
   "cell_type": "code",
   "execution_count": 28,
   "metadata": {},
   "outputs": [
    {
     "name": "stdout",
     "output_type": "stream",
     "text": [
      "Hey there, you! Ever wondered about the meaning of life? Yeah, it's a big question, and trust me, you're not alone in pondering it. Even the brilliant Elon Musk has some thoughts on the matter.\n",
      "\n",
      "You see, Elon is known for his mind-boggling advancements in technology and space exploration. But he also has a knack for simplifying complex concepts. Take his take on fear, for example. As a kid, he was scared of the dark, just like many of us. But when he realized that darkness is simply the absence of light, it seemed silly to be afraid of something that wasn't even there. And just like that, his fear vanished.\n",
      "\n",
      "Now, let's bring this back to the meaning of life. It's easy to get caught up in the grandeur of it all, wondering about our purpose and what it's all about. But here's a thought: what if the meaning of life is simply about embracing the moments that truly matter to you?\n",
      "\n",
      "Think about it. Elon, with all his incredible achievements, realizes the importance of slowing down as his kids grow up. He wants to be present and make memories with them. And he also acknowledges the need for human connection, even in his busy schedule.\n",
      "\n",
      "So, maybe the meaning of life lies in finding those moments that make your heart sing. It could be spending quality time with loved ones, pursuing your passions, or even just taking a moment to appreciate the beauty around you.\n",
      "\n",
      "Sure, there might not be a one-size-fits-all answer to the meaning of life. But that's the beauty of it. It's up to you to define what truly matters to you and create your own meaning.\n",
      "\n",
      "So, my friend, let go of those fears, carve out time for what truly lights you up, and embrace the moments that make life meaningful to you. Because in the end, it's your journey, and you have the power to make it extraordinary.\n"
     ]
    }
   ],
   "source": [
    "from langchain.schema import (\n",
    "    AIMessage,\n",
    "    HumanMessage,\n",
    "    SystemMessage\n",
    ")\n",
    "from langchain.chat_models import ChatOpenAI\n",
    "chat = ChatOpenAI(model_name='gpt-3.5-turbo-16k-0613', openai_api_key=openai_api_key)   \n",
    "\n",
    "\n",
    "messages = [\n",
    "    SystemMessage(content=template+store),\n",
    "    HumanMessage(content=user_input)\n",
    "]\n",
    "response=chat(messages)\n",
    "\n",
    "print(response.content,end='\\n')"
   ]
  },
  {
   "cell_type": "code",
   "execution_count": null,
   "metadata": {},
   "outputs": [],
   "source": []
  }
 ],
 "metadata": {
  "kernelspec": {
   "display_name": "tim-urban-venv",
   "language": "python",
   "name": "python3"
  },
  "language_info": {
   "codemirror_mode": {
    "name": "ipython",
    "version": 3
   },
   "file_extension": ".py",
   "mimetype": "text/x-python",
   "name": "python",
   "nbconvert_exporter": "python",
   "pygments_lexer": "ipython3",
   "version": "3.9.1"
  },
  "orig_nbformat": 4
 },
 "nbformat": 4,
 "nbformat_minor": 2
}
